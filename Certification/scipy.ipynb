version https://git-lfs.github.com/spec/v1
oid sha256:7790338eb4a8d3a86895f6cab7aad8810a3be22a21be45f66bc3dea724ba386d
size 248441
